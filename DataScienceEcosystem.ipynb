{
 "cells": [
  {
   "cell_type": "markdown",
   "id": "c5d208d5-d0c4-4018-bb55-c7a5b760d918",
   "metadata": {},
   "source": [
    "##### Exercise 1\n",
    "_Create a Jupyter Notebook._"
   ]
  },
  {
   "cell_type": "markdown",
   "id": "f8c8abf4-4910-4be3-9493-eeb5271ab056",
   "metadata": {},
   "source": [
    "##### Excercise 2\n",
    "_Create markdown cell with title of the notebook_"
   ]
  },
  {
   "cell_type": "markdown",
   "id": "ebe0e78c-f439-4ffe-83cb-1e3d48e5834f",
   "metadata": {},
   "source": [
    "# Data Science Tools and Ecosystem"
   ]
  },
  {
   "cell_type": "markdown",
   "id": "a286d6b7-632f-4738-9da1-09eeb987fa1d",
   "metadata": {},
   "source": [
    "##### Exercise 3\n",
    "_Create a markdown cell for an introduction_"
   ]
  },
  {
   "cell_type": "markdown",
   "id": "05b52942-51a5-428e-a47b-8dc0d736d61b",
   "metadata": {},
   "source": [
    "In this notebook, Data Science Tools and Ecosystem are summarized."
   ]
  },
  {
   "cell_type": "markdown",
   "id": "b402a781-b5c8-4a3b-a1dc-e1fe2c7b6e62",
   "metadata": {},
   "source": [
    "##### Exercise 4\n",
    "_Create a markdown cell to list data science languages_"
   ]
  },
  {
   "cell_type": "markdown",
   "id": "7f083d6b-ab80-4874-b37a-2684b23c2b79",
   "metadata": {},
   "source": [
    "#### Some of the popular languages that Data Scientists use are:\n",
    "1. Python\n",
    "2. R\n",
    "3. SQL"
   ]
  },
  {
   "cell_type": "markdown",
   "id": "681d268f-6001-4b61-9e1b-cfb16877e42f",
   "metadata": {},
   "source": [
    "##### Exercise 5\n",
    "_Create a markdown cell to list data science libraries_"
   ]
  },
  {
   "cell_type": "markdown",
   "id": "d8f7aa39-22f0-48d2-8a15-1b6d45953110",
   "metadata": {},
   "source": [
    "#### Some of the commonly used libraries used by Data Scientists include:\n",
    "1. Pandas\n",
    "2. NumPy\n",
    "3. TensorFlow"
   ]
  },
  {
   "cell_type": "markdown",
   "id": "bc8df1e1-3265-4a63-8921-4fb66b7dfffc",
   "metadata": {},
   "source": [
    "##### Exercise 6\n",
    "_Create a markdown cell with a table of Data Science tools_"
   ]
  },
  {
   "cell_type": "markdown",
   "id": "dd430591-ce08-48c2-89f4-290abccbde34",
   "metadata": {},
   "source": [
    "|Data Science Tools|\n",
    "|------------------|\n",
    "|Anaconda|\n",
    "|RStudio|\n",
    "|JupyterLab|"
   ]
  },
  {
   "cell_type": "markdown",
   "id": "bb799157-77de-451b-b1c2-02a7322564b3",
   "metadata": {},
   "source": [
    "##### Exercise 7\n",
    "_Create a markdown cell introducing arithmetic expression examples_"
   ]
  },
  {
   "cell_type": "markdown",
   "id": "0e551380-9fbb-4ee4-8935-3809d7fe756d",
   "metadata": {
    "tags": []
   },
   "source": [
    "### Below are a few examples of evaluating arithmetic expressions in Python"
   ]
  },
  {
   "cell_type": "markdown",
   "id": "6bcaad89-1963-420f-8fd6-038d5c681f39",
   "metadata": {
    "tags": []
   },
   "source": [
    "##### Exercise 8\n",
    "_Create a code cell to multiply and add numbers_"
   ]
  },
  {
   "cell_type": "code",
   "execution_count": 3,
   "id": "b97b1295-64de-4bea-af72-e3f1bcbebc36",
   "metadata": {
    "tags": []
   },
   "outputs": [
    {
     "data": {
      "text/plain": [
       "17"
      ]
     },
     "execution_count": 3,
     "metadata": {},
     "output_type": "execute_result"
    }
   ],
   "source": [
    "# This a simple arithmetic expression to mutiply then add integers\n",
    "(3*4)+5"
   ]
  },
  {
   "cell_type": "markdown",
   "id": "c98b98f0-704f-4d2b-a6a5-04b3b48065bb",
   "metadata": {},
   "source": [
    "##### Exercise 9\n",
    "_Create a code cell to convert minutes to hours_"
   ]
  },
  {
   "cell_type": "code",
   "execution_count": 7,
   "id": "08e03d89-01c9-4916-ae9b-dfec1657607e",
   "metadata": {
    "tags": []
   },
   "outputs": [
    {
     "name": "stdout",
     "output_type": "stream",
     "text": [
      "200 minutes is equal to 3.3333333333333335 hours\n"
     ]
    }
   ],
   "source": [
    "# This will convert 200 minutes to hours by diving by 60\n",
    "\n",
    "#number of minutes\n",
    "x = 200\n",
    "#Convertion\n",
    "y = 200/60\n",
    "\n",
    "#Result\n",
    "print(x, 'minutes is equal to', y, 'hours')"
   ]
  },
  {
   "cell_type": "markdown",
   "id": "166998f8-9b79-44c1-a0a5-720a7415ae32",
   "metadata": {},
   "source": [
    "##### Exercise 10\n",
    "_Insert a markdown cell to list Objectives_"
   ]
  },
  {
   "cell_type": "markdown",
   "id": "abc09e0a-eaef-4a75-b72c-76b0d7b403ee",
   "metadata": {},
   "source": [
    "__Objectives:__\n",
    "* List popular languages in Data Science\n",
    "* List popular development environments for Data Science\n",
    "* List popular libraries for Data Science"
   ]
  },
  {
   "cell_type": "markdown",
   "id": "4ef3b69d-13fd-4adc-9d4c-69a63546c880",
   "metadata": {
    "tags": []
   },
   "source": [
    "##### Exercise 11\n",
    "_Create a markdown cell to indicate the Author's name_"
   ]
  },
  {
   "cell_type": "markdown",
   "id": "d559c6f6-7102-4aac-9016-e38fa9ea3b43",
   "metadata": {},
   "source": [
    "## Author\n",
    "Claudio J Castro"
   ]
  },
  {
   "cell_type": "code",
   "execution_count": null,
   "id": "e93e9c90-ec00-4302-8e55-78ea15abeb2f",
   "metadata": {},
   "outputs": [],
   "source": []
  }
 ],
 "metadata": {
  "kernelspec": {
   "display_name": "Python",
   "language": "python",
   "name": "conda-env-python-py"
  },
  "language_info": {
   "codemirror_mode": {
    "name": "ipython",
    "version": 3
   },
   "file_extension": ".py",
   "mimetype": "text/x-python",
   "name": "python",
   "nbconvert_exporter": "python",
   "pygments_lexer": "ipython3",
   "version": "3.7.12"
  }
 },
 "nbformat": 4,
 "nbformat_minor": 5
}
